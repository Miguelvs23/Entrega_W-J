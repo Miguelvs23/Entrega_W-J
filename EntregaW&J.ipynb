{
 "cells": [
  {
   "cell_type": "markdown",
   "id": "1a5d261e",
   "metadata": {},
   "source": [
    "# Primera entrega reto W&J\n",
    "En esta primera entrega mostramos el preprocesamiento de la información, así como el análisis exploratorio de la información, métodos de corrección de los datos obtenidos y el entreno del modelo escogido. Se sigue entrenando otros modelos para mejorar la precisión del entregable. "
   ]
  },
  {
   "cell_type": "markdown",
   "id": "e1a7cbdd",
   "metadata": {},
   "source": [
    "## 0. Cargar paquetes necesarios "
   ]
  },
  {
   "cell_type": "code",
   "execution_count": 1,
   "id": "45fbd581",
   "metadata": {},
   "outputs": [],
   "source": [
    "import pandas as pd\n",
    "import numpy as np\n",
    "import matplotlib.pyplot as plt\n",
    "from sklearn.preprocessing import OrdinalEncoder\n",
    "import shutil\n",
    "import requests\n",
    "import torch \n",
    "from sklearn.metrics import f1_score\n",
    "from sklearn.metrics import confusion_matrix\n",
    "from torch.autograd import Variable\n",
    "from PIL import Image\n",
    "from glob import glob\n",
    "from torch.utils.data import DataLoader\n",
    "from torch.utils.data import TensorDataset\n",
    "import augly.image as imagus \n",
    "import torchvision.transforms as transforms\n"
   ]
  },
  {
   "cell_type": "markdown",
   "id": "ffc5ab8d",
   "metadata": {},
   "source": [
    "## 1. Previsualización de la información y preprocesamiento"
   ]
  },
  {
   "cell_type": "code",
   "execution_count": 2,
   "id": "b62882e4",
   "metadata": {},
   "outputs": [
    {
     "data": {
      "text/html": [
       "<div>\n",
       "<style scoped>\n",
       "    .dataframe tbody tr th:only-of-type {\n",
       "        vertical-align: middle;\n",
       "    }\n",
       "\n",
       "    .dataframe tbody tr th {\n",
       "        vertical-align: top;\n",
       "    }\n",
       "\n",
       "    .dataframe thead th {\n",
       "        text-align: right;\n",
       "    }\n",
       "</style>\n",
       "<table border=\"1\" class=\"dataframe\">\n",
       "  <thead>\n",
       "    <tr style=\"text-align: right;\">\n",
       "      <th></th>\n",
       "      <th>_unit_id</th>\n",
       "      <th>_golden</th>\n",
       "      <th>_unit_state</th>\n",
       "      <th>_trusted_judgments</th>\n",
       "      <th>_last_judgment_at</th>\n",
       "      <th>which_of_these_sentiment_scores_does_the_above_image_fit_into_best</th>\n",
       "      <th>which_of_these_sentiment_scores_does_the_above_image_fit_into_best:confidence</th>\n",
       "      <th>imageurl</th>\n",
       "      <th>which_of_these_sentiment_scores_does_the_above_image_fit_into_best_gold</th>\n",
       "      <th>which_of_these_sentiment_scores_does_the_above_image_fit_into_best_gold_reason</th>\n",
       "    </tr>\n",
       "  </thead>\n",
       "  <tbody>\n",
       "    <tr>\n",
       "      <th>0</th>\n",
       "      <td>694550568</td>\n",
       "      <td>True</td>\n",
       "      <td>golden</td>\n",
       "      <td>47</td>\n",
       "      <td>NaN</td>\n",
       "      <td>Positive</td>\n",
       "      <td>0.6395</td>\n",
       "      <td>http://farm1.staticflickr.com/20/71235476_3103...</td>\n",
       "      <td>Highly positive\\nPositive</td>\n",
       "      <td>He is smiling. =&gt; happy, joy</td>\n",
       "    </tr>\n",
       "    <tr>\n",
       "      <th>1</th>\n",
       "      <td>694550569</td>\n",
       "      <td>True</td>\n",
       "      <td>golden</td>\n",
       "      <td>36</td>\n",
       "      <td>NaN</td>\n",
       "      <td>Positive</td>\n",
       "      <td>0.6458</td>\n",
       "      <td>http://farm4.staticflickr.com/3096/2584485524_...</td>\n",
       "      <td>Highly positive\\nPositive</td>\n",
       "      <td>A beautiful scenery. =&gt; serenity</td>\n",
       "    </tr>\n",
       "    <tr>\n",
       "      <th>2</th>\n",
       "      <td>694550570</td>\n",
       "      <td>True</td>\n",
       "      <td>golden</td>\n",
       "      <td>35</td>\n",
       "      <td>NaN</td>\n",
       "      <td>Negative</td>\n",
       "      <td>0.8420</td>\n",
       "      <td>http://farm3.staticflickr.com/2880/11733997835...</td>\n",
       "      <td>Negative\\nHighly negative</td>\n",
       "      <td>They look serious. =&gt; sadness, fear</td>\n",
       "    </tr>\n",
       "    <tr>\n",
       "      <th>3</th>\n",
       "      <td>694550571</td>\n",
       "      <td>True</td>\n",
       "      <td>golden</td>\n",
       "      <td>41</td>\n",
       "      <td>NaN</td>\n",
       "      <td>Positive</td>\n",
       "      <td>0.7216</td>\n",
       "      <td>http://farm4.staticflickr.com/3022/2286937150_...</td>\n",
       "      <td>Highly positive\\nPositive</td>\n",
       "      <td>A cute puppy. =&gt; happy, joy</td>\n",
       "    </tr>\n",
       "    <tr>\n",
       "      <th>4</th>\n",
       "      <td>694550572</td>\n",
       "      <td>True</td>\n",
       "      <td>golden</td>\n",
       "      <td>46</td>\n",
       "      <td>NaN</td>\n",
       "      <td>Positive</td>\n",
       "      <td>0.8801</td>\n",
       "      <td>http://farm1.staticflickr.com/163/357381033_d0...</td>\n",
       "      <td>Highly positive\\nPositive</td>\n",
       "      <td>She looks fun. =&gt; fun, joy, happy</td>\n",
       "    </tr>\n",
       "  </tbody>\n",
       "</table>\n",
       "</div>"
      ],
      "text/plain": [
       "    _unit_id  _golden _unit_state  _trusted_judgments _last_judgment_at  \\\n",
       "0  694550568     True      golden                  47               NaN   \n",
       "1  694550569     True      golden                  36               NaN   \n",
       "2  694550570     True      golden                  35               NaN   \n",
       "3  694550571     True      golden                  41               NaN   \n",
       "4  694550572     True      golden                  46               NaN   \n",
       "\n",
       "  which_of_these_sentiment_scores_does_the_above_image_fit_into_best  \\\n",
       "0                                           Positive                   \n",
       "1                                           Positive                   \n",
       "2                                           Negative                   \n",
       "3                                           Positive                   \n",
       "4                                           Positive                   \n",
       "\n",
       "   which_of_these_sentiment_scores_does_the_above_image_fit_into_best:confidence  \\\n",
       "0                                             0.6395                               \n",
       "1                                             0.6458                               \n",
       "2                                             0.8420                               \n",
       "3                                             0.7216                               \n",
       "4                                             0.8801                               \n",
       "\n",
       "                                            imageurl  \\\n",
       "0  http://farm1.staticflickr.com/20/71235476_3103...   \n",
       "1  http://farm4.staticflickr.com/3096/2584485524_...   \n",
       "2  http://farm3.staticflickr.com/2880/11733997835...   \n",
       "3  http://farm4.staticflickr.com/3022/2286937150_...   \n",
       "4  http://farm1.staticflickr.com/163/357381033_d0...   \n",
       "\n",
       "  which_of_these_sentiment_scores_does_the_above_image_fit_into_best_gold  \\\n",
       "0                          Highly positive\\nPositive                        \n",
       "1                          Highly positive\\nPositive                        \n",
       "2                          Negative\\nHighly negative                        \n",
       "3                          Highly positive\\nPositive                        \n",
       "4                          Highly positive\\nPositive                        \n",
       "\n",
       "  which_of_these_sentiment_scores_does_the_above_image_fit_into_best_gold_reason  \n",
       "0                       He is smiling. => happy, joy                              \n",
       "1                   A beautiful scenery. => serenity                              \n",
       "2                They look serious. => sadness, fear                              \n",
       "3                        A cute puppy. => happy, joy                              \n",
       "4                  She looks fun. => fun, joy, happy                              "
      ]
     },
     "execution_count": 2,
     "metadata": {},
     "output_type": "execute_result"
    }
   ],
   "source": [
    "data = pd.read_csv('image-Sentiment-polarity-DFE.csv')\n",
    "data.keys()\n",
    "# Observamos la cabecera del dataset\n",
    "data.head(5)"
   ]
  },
  {
   "cell_type": "code",
   "execution_count": 3,
   "id": "ef3c3033",
   "metadata": {},
   "outputs": [
    {
     "data": {
      "text/plain": [
       "_unit_id                                                                              0\n",
       "_golden                                                                               0\n",
       "_unit_state                                                                           0\n",
       "_trusted_judgments                                                                    0\n",
       "_last_judgment_at                                                                   614\n",
       "which_of_these_sentiment_scores_does_the_above_image_fit_into_best                    0\n",
       "which_of_these_sentiment_scores_does_the_above_image_fit_into_best:confidence         0\n",
       "imageurl                                                                              0\n",
       "which_of_these_sentiment_scores_does_the_above_image_fit_into_best_gold           15000\n",
       "which_of_these_sentiment_scores_does_the_above_image_fit_into_best_gold_reason    15595\n",
       "dtype: int64"
      ]
     },
     "execution_count": 3,
     "metadata": {},
     "output_type": "execute_result"
    }
   ],
   "source": [
    "# Verificamos si existen celdas vacias\n",
    "data.isnull().sum()"
   ]
  },
  {
   "cell_type": "code",
   "execution_count": 4,
   "id": "51a36508",
   "metadata": {},
   "outputs": [
    {
     "data": {
      "image/png": "[encoded data removed]",
      "text/plain": [
       "<Figure size 504x360 with 1 Axes>"
      ]
     },
     "metadata": {
      "needs_background": "light"
     },
     "output_type": "display_data"
    }
   ],
   "source": [
    "keys = ['_trusted_judgments', 'which_of_these_sentiment_scores_does_the_above_image_fit_into_best:confidence']\n",
    "Y = ['which_of_these_sentiment_scores_does_the_above_image_fit_into_best']\n",
    "#Visualizando el objetivo\n",
    "data = data.astype({'which_of_these_sentiment_scores_does_the_above_image_fit_into_best': str,\n",
    "                    '_last_judgment_at':str})\n",
    "fig = plt.figure(figsize=(7,5))\n",
    "plt.hist(data['which_of_these_sentiment_scores_does_the_above_image_fit_into_best'])\n",
    "plt.xlabel('Price')\n",
    "plt.ylabel('counts')\n",
    "plt.show()"
   ]
  },
  {
   "cell_type": "code",
   "execution_count": 5,
   "id": "30491f4c",
   "metadata": {},
   "outputs": [
    {
     "data": {
      "text/plain": [
       "15613"
      ]
     },
     "execution_count": 5,
     "metadata": {},
     "output_type": "execute_result"
    }
   ],
   "source": [
    "\n",
    "#Eliminar los que son nan en sentimiento\n",
    "\n",
    "data = data.dropna(subset=[\"which_of_these_sentiment_scores_does_the_above_image_fit_into_best\"])\n",
    "\n",
    "len(data)\n",
    "\n"
   ]
  },
  {
   "cell_type": "code",
   "execution_count": 6,
   "id": "afdc2d1f",
   "metadata": {},
   "outputs": [],
   "source": [
    "#Codificamos los features categoricos\n",
    "features=data['which_of_these_sentiment_scores_does_the_above_image_fit_into_best'].value_counts().index.tolist()\n",
    "data = data.astype({'which_of_these_sentiment_scores_does_the_above_image_fit_into_best': str,\n",
    "                    '_trusted_judgments':float,\n",
    "                    'which_of_these_sentiment_scores_does_the_above_image_fit_into_best:confidence':float})\n",
    "# Creamos el codificador indicandole el orden de la variables\n",
    "encoder = OrdinalEncoder(categories=[['Positive', 'Neutral', 'Negative', 'Highly positive', 'Highly negative']])\n",
    "\n",
    "# Ajustamos el codificador con la variable sentimiento y la transformamos\n",
    "encoder.fit(data[['which_of_these_sentiment_scores_does_the_above_image_fit_into_best']])\n",
    "data['y_code'] = encoder.transform(data[['which_of_these_sentiment_scores_does_the_above_image_fit_into_best']])\n",
    "\n",
    "data = data.astype({'y_code': int})"
   ]
  },
  {
   "cell_type": "code",
   "execution_count": 7,
   "id": "340eacf2",
   "metadata": {},
   "outputs": [
    {
     "data": {
      "text/plain": [
       "15613"
      ]
     },
     "execution_count": 7,
     "metadata": {},
     "output_type": "execute_result"
    }
   ],
   "source": [
    "df = pd.DataFrame()\n",
    "df['unit_id'] = data['_unit_id']\n",
    "df['num_like'] = data['which_of_these_sentiment_scores_does_the_above_image_fit_into_best:confidence']\n",
    "df['num_data'] = data['_trusted_judgments']\n",
    "df['f_code'] = data['y_code']\n",
    "df['f_name'] = data['which_of_these_sentiment_scores_does_the_above_image_fit_into_best']\n",
    "\n",
    "keys=['num_like','num_data']\n",
    "\n",
    "len(df)"
   ]
  },
  {
   "cell_type": "code",
   "execution_count": 8,
   "id": "d2c4d4ed",
   "metadata": {},
   "outputs": [
    {
     "name": "stdout",
     "output_type": "stream",
     "text": [
      "0    8551\n",
      "1    4227\n",
      "2    2119\n",
      "3     433\n",
      "4     283\n",
      "Name: f_code, dtype: int64\n",
      "----\n",
      "Positive           8551\n",
      "Neutral            4227\n",
      "Negative           2119\n",
      "Highly positive     433\n",
      "Highly negative     283\n",
      "Name: f_name, dtype: int64\n"
     ]
    }
   ],
   "source": [
    "#Verificamos la codificación de la información \n",
    "df = df.astype({'f_code': int})\n",
    "code=df['f_code'].value_counts()\n",
    "print(code)\n",
    "name=df['f_name'].value_counts()\n",
    "print('----')\n",
    "print(name)"
   ]
  },
  {
   "cell_type": "code",
   "execution_count": 9,
   "id": "38c6c277",
   "metadata": {},
   "outputs": [
    {
     "data": {
      "image/png": "[encoded data removed]",
      "text/plain": [
       "<Figure size 504x360 with 1 Axes>"
      ]
     },
     "metadata": {
      "needs_background": "light"
     },
     "output_type": "display_data"
    }
   ],
   "source": [
    "#-- Graficamos los puntos con sus correspondientes clases\n",
    "#Clasificación Visual\n",
    "\n",
    "fig = plt.figure(figsize=(7,5))\n",
    "plt.plot(df['num_data'],df['num_like'],'*')\n",
    "plt.xlabel('cantidad_trusted')\n",
    "plt.ylabel('feel_likely')\n",
    "plt.show()"
   ]
  },
  {
   "cell_type": "code",
   "execution_count": 10,
   "id": "42d86ad2",
   "metadata": {},
   "outputs": [
    {
     "data": {
      "image/png": "[encoded data removed]",
      "text/plain": [
       "<Figure size 432x432 with 1 Axes>"
      ]
     },
     "metadata": {
      "needs_background": "light"
     },
     "output_type": "display_data"
    }
   ],
   "source": [
    "df= df[df['num_like'] >= 0.4]\n",
    "#-- Graficamos los puntos con sus correspondientes clases\n",
    "#Clasificación Visual\n",
    "\n",
    "x1 = df['num_data']\n",
    "x2 = df['num_like']\n",
    "y = df['f_code']\n",
    "\n",
    "class_0 = y == 0 # Esto es una máscara\n",
    "class_1 = y == 1 # Esto es una máscara\n",
    "class_2 = y == 2 # Esto es una máscara\n",
    "class_3 = y == 3 # Esto es una máscara\n",
    "class_4 = y == 4 # Esto es una máscara\n",
    "\n",
    "\n",
    "#-- Graficamos los puntos con sus correspondientes clases\n",
    "fig = plt.figure(figsize=(6,6))\n",
    "\n",
    "plt.plot(x1[class_0],x2[class_0],'o', c='black', label='Positive ')\n",
    "plt.plot(x1[class_1],x2[class_1],'o', c='red', label='Neutral ')\n",
    "plt.plot(x1[class_2],x2[class_2],'o', c='blue', label='Negative ')\n",
    "plt.plot(x1[class_3],x2[class_3],'o', c='green', label='Highly positive ')\n",
    "plt.plot(x1[class_4],x2[class_4],'o', c='yellow', label='Highly negative')\n",
    "\n",
    "\n",
    "plt.legend()\n",
    "plt.show()"
   ]
  },
  {
   "cell_type": "code",
   "execution_count": 11,
   "id": "76b6ce55",
   "metadata": {},
   "outputs": [
    {
     "data": {
      "text/html": [
       "<div>\n",
       "<style scoped>\n",
       "    .dataframe tbody tr th:only-of-type {\n",
       "        vertical-align: middle;\n",
       "    }\n",
       "\n",
       "    .dataframe tbody tr th {\n",
       "        vertical-align: top;\n",
       "    }\n",
       "\n",
       "    .dataframe thead th {\n",
       "        text-align: right;\n",
       "    }\n",
       "</style>\n",
       "<table border=\"1\" class=\"dataframe\">\n",
       "  <thead>\n",
       "    <tr style=\"text-align: right;\">\n",
       "      <th></th>\n",
       "      <th>_unit_id</th>\n",
       "      <th>_golden</th>\n",
       "      <th>_unit_state</th>\n",
       "      <th>_trusted_judgments</th>\n",
       "      <th>_last_judgment_at</th>\n",
       "      <th>which_of_these_sentiment_scores_does_the_above_image_fit_into_best</th>\n",
       "      <th>which_of_these_sentiment_scores_does_the_above_image_fit_into_best:confidence</th>\n",
       "      <th>imageurl</th>\n",
       "      <th>which_of_these_sentiment_scores_does_the_above_image_fit_into_best_gold</th>\n",
       "      <th>which_of_these_sentiment_scores_does_the_above_image_fit_into_best_gold_reason</th>\n",
       "      <th>y_code</th>\n",
       "    </tr>\n",
       "  </thead>\n",
       "  <tbody>\n",
       "    <tr>\n",
       "      <th>0</th>\n",
       "      <td>694550568</td>\n",
       "      <td>True</td>\n",
       "      <td>golden</td>\n",
       "      <td>47.0</td>\n",
       "      <td>nan</td>\n",
       "      <td>Positive</td>\n",
       "      <td>0.6395</td>\n",
       "      <td>http://farm1.staticflickr.com/20/71235476_3103...</td>\n",
       "      <td>Highly positive\\nPositive</td>\n",
       "      <td>He is smiling. =&gt; happy, joy</td>\n",
       "      <td>0</td>\n",
       "    </tr>\n",
       "    <tr>\n",
       "      <th>1</th>\n",
       "      <td>694550569</td>\n",
       "      <td>True</td>\n",
       "      <td>golden</td>\n",
       "      <td>36.0</td>\n",
       "      <td>nan</td>\n",
       "      <td>Positive</td>\n",
       "      <td>0.6458</td>\n",
       "      <td>http://farm4.staticflickr.com/3096/2584485524_...</td>\n",
       "      <td>Highly positive\\nPositive</td>\n",
       "      <td>A beautiful scenery. =&gt; serenity</td>\n",
       "      <td>0</td>\n",
       "    </tr>\n",
       "    <tr>\n",
       "      <th>2</th>\n",
       "      <td>694550570</td>\n",
       "      <td>True</td>\n",
       "      <td>golden</td>\n",
       "      <td>35.0</td>\n",
       "      <td>nan</td>\n",
       "      <td>Negative</td>\n",
       "      <td>0.8420</td>\n",
       "      <td>http://farm3.staticflickr.com/2880/11733997835...</td>\n",
       "      <td>Negative\\nHighly negative</td>\n",
       "      <td>They look serious. =&gt; sadness, fear</td>\n",
       "      <td>2</td>\n",
       "    </tr>\n",
       "    <tr>\n",
       "      <th>3</th>\n",
       "      <td>694550571</td>\n",
       "      <td>True</td>\n",
       "      <td>golden</td>\n",
       "      <td>41.0</td>\n",
       "      <td>nan</td>\n",
       "      <td>Positive</td>\n",
       "      <td>0.7216</td>\n",
       "      <td>http://farm4.staticflickr.com/3022/2286937150_...</td>\n",
       "      <td>Highly positive\\nPositive</td>\n",
       "      <td>A cute puppy. =&gt; happy, joy</td>\n",
       "      <td>0</td>\n",
       "    </tr>\n",
       "    <tr>\n",
       "      <th>4</th>\n",
       "      <td>694550572</td>\n",
       "      <td>True</td>\n",
       "      <td>golden</td>\n",
       "      <td>46.0</td>\n",
       "      <td>nan</td>\n",
       "      <td>Positive</td>\n",
       "      <td>0.8801</td>\n",
       "      <td>http://farm1.staticflickr.com/163/357381033_d0...</td>\n",
       "      <td>Highly positive\\nPositive</td>\n",
       "      <td>She looks fun. =&gt; fun, joy, happy</td>\n",
       "      <td>0</td>\n",
       "    </tr>\n",
       "  </tbody>\n",
       "</table>\n",
       "</div>"
      ],
      "text/plain": [
       "    _unit_id  _golden _unit_state  _trusted_judgments _last_judgment_at  \\\n",
       "0  694550568     True      golden                47.0               nan   \n",
       "1  694550569     True      golden                36.0               nan   \n",
       "2  694550570     True      golden                35.0               nan   \n",
       "3  694550571     True      golden                41.0               nan   \n",
       "4  694550572     True      golden                46.0               nan   \n",
       "\n",
       "  which_of_these_sentiment_scores_does_the_above_image_fit_into_best  \\\n",
       "0                                           Positive                   \n",
       "1                                           Positive                   \n",
       "2                                           Negative                   \n",
       "3                                           Positive                   \n",
       "4                                           Positive                   \n",
       "\n",
       "   which_of_these_sentiment_scores_does_the_above_image_fit_into_best:confidence  \\\n",
       "0                                             0.6395                               \n",
       "1                                             0.6458                               \n",
       "2                                             0.8420                               \n",
       "3                                             0.7216                               \n",
       "4                                             0.8801                               \n",
       "\n",
       "                                            imageurl  \\\n",
       "0  http://farm1.staticflickr.com/20/71235476_3103...   \n",
       "1  http://farm4.staticflickr.com/3096/2584485524_...   \n",
       "2  http://farm3.staticflickr.com/2880/11733997835...   \n",
       "3  http://farm4.staticflickr.com/3022/2286937150_...   \n",
       "4  http://farm1.staticflickr.com/163/357381033_d0...   \n",
       "\n",
       "  which_of_these_sentiment_scores_does_the_above_image_fit_into_best_gold  \\\n",
       "0                          Highly positive\\nPositive                        \n",
       "1                          Highly positive\\nPositive                        \n",
       "2                          Negative\\nHighly negative                        \n",
       "3                          Highly positive\\nPositive                        \n",
       "4                          Highly positive\\nPositive                        \n",
       "\n",
       "  which_of_these_sentiment_scores_does_the_above_image_fit_into_best_gold_reason  \\\n",
       "0                       He is smiling. => happy, joy                               \n",
       "1                   A beautiful scenery. => serenity                               \n",
       "2                They look serious. => sadness, fear                               \n",
       "3                        A cute puppy. => happy, joy                               \n",
       "4                  She looks fun. => fun, joy, happy                               \n",
       "\n",
       "   y_code  \n",
       "0       0  \n",
       "1       0  \n",
       "2       2  \n",
       "3       0  \n",
       "4       0  "
      ]
     },
     "execution_count": 11,
     "metadata": {},
     "output_type": "execute_result"
    }
   ],
   "source": [
    "data.to_csv('data_tot.csv',encoding='utf-8') #datos con y_code\n",
    "data.head(5)"
   ]
  },
  {
   "cell_type": "code",
   "execution_count": null,
   "id": "20bc495e",
   "metadata": {},
   "outputs": [],
   "source": [
    "#Se descargan las imagenes en una carpeta imgs\n",
    "#Se capturan los nombres de las imagenes que no fue posible abrir para filtrar la información\n",
    "vals = data['_unit_id'].values\n",
    "boolser = data['_unit_id'].apply(lambda x:x not in vals)\n",
    "df1 = data[boolser]\n",
    "df1 = df1.astype({'_unit_id': str,'imageurl':str})\n",
    "url=df1['imageurl'].to_numpy()\n",
    "name=df1['_unit_id'].to_numpy()\n",
    "unused_img=[]\n",
    "len_0=len(df1)\n",
    "for i in range(len_0):\n",
    "    r=len_0-i\n",
    "    try:\n",
    "        response = requests.get(url[i], stream=True)\n",
    "        with open('imgs/' + name[i]+'.jpg', 'wb') as out_file:\n",
    "            shutil.copyfileobj(response.raw, out_file)\n",
    "        del response\n",
    "        print(r,\"------\")\n",
    "    except:\n",
    "        print(r,\"----------------EXEPT image: \" + name[i])\n",
    "        unused_img.append(name[i])\n",
    "        continue\n",
    "    else:\n",
    "        continue"
   ]
  },
  {
   "cell_type": "code",
   "execution_count": null,
   "id": "3f6380ec",
   "metadata": {},
   "outputs": [],
   "source": [
    "#Se filtra la información y se genera la tabla data_clean.csv que tiene los datos útiles\n",
    "data_bool = df1['_unit_id'].apply(lambda x:x not in unused_img)\n",
    "data_fin = df1.copy()[data_bool]\n",
    "data_fin.to_csv('data_clean.csv')"
   ]
  },
  {
   "cell_type": "markdown",
   "id": "30ee3273",
   "metadata": {},
   "source": [
    "## 2. Tratamiento de los datos"
   ]
  },
  {
   "cell_type": "code",
   "execution_count": null,
   "id": "931332e3",
   "metadata": {},
   "outputs": [],
   "source": [
    "## Creamos la función multiplicar_img para compensar las clases desbalanceadas. \n",
    "data = data[['y_code','_unit_id']]\n",
    "def multiplicar_img(img, data,code):\n",
    "    maximo = data._unit_id.apply(lambda x :int(x)).max()\n",
    "    num = int(maximo)\n",
    "    lista_num = []\n",
    "    j = 1\n",
    "    imagen = Image.open(img)\n",
    "    imagus.grayscale(imagen).save('imgs/imgs/{}.jpg'.format(num+j))\n",
    "    lista_num.append(str(num+j))\n",
    "    j += 1\n",
    "    params_salyp = [0.45]\n",
    "    for i in range(len(params_salyp)):\n",
    "        imagus.shuffle_pixels(imagen, factor = params_salyp[i]).save('imgs/imgs/{}.jpg'.format(num+j), optimize=True, quality=75)\n",
    "        lista_num.append(str(num+j))\n",
    "        j += 1\n",
    "    params_brillo = [0.45]\n",
    "    for i in range(len(params_brillo)):\n",
    "        imagus.brightness(imagen,factor = params_brillo[i]).save('imgs/imgs/{}.jpg'.format(num+j), optimize=True, quality=75)\n",
    "        lista_num.append(str(num+j))\n",
    "        j += 1\n",
    "    params_sat = [0.5]\n",
    "    for i in range(len(params_sat)):\n",
    "        lista_num.append(str(num+j))\n",
    "        imagus.saturation(imagen,factor = params_sat[i]).save('imgs/imgs/{}.jpg'.format(num+j), optimize=True, quality=75)\n",
    "        j += 1\n",
    "    params_noise = [0.15]\n",
    "    for i in range(len(params_noise)):\n",
    "        lista_num.append(str(num+j))\n",
    "        imagus.random_noise(imagen, mean = params_noise[i], var = 0.3).save('imgs/imgs/{}.jpg'.format(num+j), optimize=True, quality=75)\n",
    "        j += 1\n",
    "    lista_code = [code for x in lista_num]\n",
    "    append_data = pd.DataFrame(list(zip(lista_code,lista_num)), columns = ['y_code','_unit_id'])\n",
    "    data = data.append(append_data, ignore_index = True)\n",
    "    return data"
   ]
  },
  {
   "cell_type": "code",
   "execution_count": null,
   "id": "4b9945ac",
   "metadata": {},
   "outputs": [],
   "source": [
    "## Multiplicamos la cantidad de imagenes para balancear las clases\n",
    "lista = data.groupby('y_code').count()['_unit_id'].values\n",
    "for i in range(len(lista)):\n",
    "    if (lista[i]/max(lista))<=0.8:\n",
    "        dat_x = data.copy()[data['y_code']==i]\n",
    "        for j in dat_x._unit_id.values:\n",
    "            string = 'imgs/imgs/{}.jpg'.format(j)\n",
    "            code = i\n",
    "            data = multiplicar_img(string,data,code)\n",
    "            \n",
    "        "
   ]
  },
  {
   "cell_type": "code",
   "execution_count": null,
   "id": "9ba8dc37",
   "metadata": {},
   "outputs": [],
   "source": [
    "## Creamos una tabla con la información modificada\n",
    "data.to_csv('datafin.csv',index=False)"
   ]
  },
  {
   "cell_type": "code",
   "execution_count": 12,
   "id": "a89a985d",
   "metadata": {},
   "outputs": [],
   "source": [
    "data = pd.read_csv('datafin.csv')"
   ]
  },
  {
   "cell_type": "code",
   "execution_count": 14,
   "id": "7b2fe27c",
   "metadata": {},
   "outputs": [
    {
     "data": {
      "text/plain": [
       "<AxesSubplot:>"
      ]
     },
     "execution_count": 14,
     "metadata": {},
     "output_type": "execute_result"
    },
    {
     "data": {
      "image/png": "[encoded data removed]",
      "text/plain": [
       "<Figure size 432x288 with 1 Axes>"
      ]
     },
     "metadata": {
      "needs_background": "light"
     },
     "output_type": "display_data"
    }
   ],
   "source": [
    "## Miramos que tan balanceadas quedaron las clases\n",
    "data.y_code.hist()"
   ]
  },
  {
   "cell_type": "markdown",
   "id": "11b7011c",
   "metadata": {},
   "source": [
    "## 3. Entreno del modelo "
   ]
  },
  {
   "cell_type": "code",
   "execution_count": null,
   "id": "4da7db82",
   "metadata": {},
   "outputs": [],
   "source": [
    "## Dividimos la información en el target que es y_code y las imagenes que son _unit_id\n",
    "X = data['_unit_id'].copy().apply(lambda x:str(x))\n",
    "y = data.copy()['y_code']\n",
    "del data\n",
    "X_train, X_test, y_train, y_test = train_test_split(X.values,y.values,test_size=0.2, random_state=101)\n",
    "del X,y"
   ]
  },
  {
   "cell_type": "code",
   "execution_count": null,
   "id": "0e2ce723",
   "metadata": {},
   "outputs": [],
   "source": [
    "# Transformamos la información, hay que tener en cuenta que algunas fotos son a blanco y negro, por lo cual para estas\n",
    "#se usa el data_transform, para las de color se usa data_transform2\n",
    "data_transform = transforms.Compose([\n",
    "                 transforms.Resize((299, 299)),\n",
    "                 transforms.Grayscale(3),\n",
    "                 transforms.ToTensor(),\n",
    "                 transforms.Normalize(mean=[0.485, 0.456, 0.406],std=[0.229, 0.224, 0.225])\n",
    "                 ])\n",
    "data_transform2 = transforms.Compose([\n",
    "                 transforms.Resize((299, 299)),\n",
    "                 transforms.ToTensor(),\n",
    "                 transforms.Normalize(mean=[0.485, 0.456, 0.406],std=[0.229, 0.224, 0.225])\n",
    "                 ])"
   ]
  },
  {
   "cell_type": "code",
   "execution_count": null,
   "id": "c0f9aac0",
   "metadata": {},
   "outputs": [],
   "source": [
    "## Creamos el dataset de entreno. Se usó solo el 25% de la información por capacidad de la máquina\n",
    "X_train = X_train[0:int(len(X_train)/4)]\n",
    "X_train_f = []\n",
    "Y_train_f = []\n",
    "for i in range(len(X_train)):\n",
    "    Y_train_f.append(y_train[i]  )\n",
    "    img = Image.open('imgs/imgs/'+X_train[i]+'.jpg')\n",
    "    if len(np.array(img).shape) == 3: ##Aqui sabemos si la imagen es a color o a blanco y negro\n",
    "        X_train_f.append( np.array(data_transform2(Image.open('imgs/imgs/'+X_train[i]+'.jpg') )))\n",
    "    else:\n",
    "        X_train_f.append(np.array(data_transform(Image.open('imgs/imgs/'+X_train[i]+'.jpg'))))\n",
    "X_train = Variable(torch.from_numpy(np.array(X_train_f))).float()\n",
    "del X_train_f\n",
    "Y_train = Variable(torch.from_numpy(np.array(Y_train_f))).long()\n",
    "del Y_train_f"
   ]
  },
  {
   "cell_type": "code",
   "execution_count": null,
   "id": "4a7db119",
   "metadata": {},
   "outputs": [],
   "source": [
    "## Escogimos el modelo inception_v3 por la facilidad del manejo del modelo. \n",
    "import hiddenlayer as hl\n",
    "model = torch.hub.load('pytorch/vision', 'inception_v3', pretrained=True)"
   ]
  },
  {
   "cell_type": "code",
   "execution_count": null,
   "id": "3056546e",
   "metadata": {},
   "outputs": [],
   "source": [
    "## Parametrizamos el entreno con un batch_size de 300 para mejorar la precisión.\n",
    "## Modificamos la última capa del modelo para que tenga de salida las dimensiones que necesitamos \n",
    "batch_size = 300\n",
    "train_ds = torch.utils.data.TensorDataset(X_train, Y_train)\n",
    "train_dl = torch.utils.data.DataLoader(train_ds, batch_size=batch_size, shuffle=True)\n",
    "for p in model.parameters():\n",
    "    p.requires_grad = False\n",
    "\n",
    "model.fc = torch.nn.Sequential(\n",
    "    torch.nn.Linear(2048, 1000),\n",
    "    torch.nn.ReLU(),\n",
    "    torch.nn.Linear(1000,100),\n",
    "    torch.nn.ReLU(),\n",
    "    torch.nn.Linear(100,5),\n",
    ")\n",
    "\n",
    "\n",
    "\n",
    "model.load_state_dict(model.state_dict())\n",
    "del X_train, y_train\n",
    "model"
   ]
  },
  {
   "cell_type": "code",
   "execution_count": null,
   "id": "881074b2",
   "metadata": {},
   "outputs": [],
   "source": [
    "model.train()\n",
    "## Criterio de perdida y optimizador\n",
    "optimizer = torch.optim.SGD(model.parameters(), lr=0.001, weight_decay=0.1)\n",
    "criterion = torch.nn.CrossEntropyLoss()\n",
    "\n",
    "\n",
    "## Entrenamos para 15 épocas\n",
    "n_epochs = 15\n",
    "\n",
    "history = hl.History()\n",
    "canvas = hl.Canvas()\n",
    "\n",
    "iter = 0\n",
    "\n",
    "for epoch in range(n_epochs):\n",
    "    \n",
    "    for batch_idx, (X_train_batch, Y_train_batch) in enumerate(train_dl):\n",
    "        # Realizamos la predicción del batch\n",
    "        Y_pred = model(X_train_batch).logits\n",
    "        # Calculamos la perdida del batch\n",
    "        loss = criterion(Y_pred, Y_train_batch)\n",
    "\n",
    "        Y_pred = torch.argmax(Y_pred, 1)\n",
    "\n",
    "        # Calculamos la precisión \n",
    "        acc = sum(Y_train_batch == Y_pred)/len(Y_pred)\n",
    "\n",
    "        # Backpropagation\n",
    "        optimizer.zero_grad()\n",
    "        loss.backward()\n",
    "        optimizer.step()\n",
    "\n",
    "        if iter%10 == 0:\n",
    "            ## Visualizamos \n",
    "            history.log((epoch+1, iter), loss=loss, accuracy=acc)\n",
    "            with canvas:\n",
    "                canvas.draw_plot(history[\"loss\"])\n",
    "                canvas.draw_plot(history[\"accuracy\"])\n",
    "\n",
    "        iter += 1\n",
    "        del X_train_batch, Y_train_batch, Y_pred\n",
    "del train_dl, train_ds"
   ]
  },
  {
   "cell_type": "code",
   "execution_count": null,
   "id": "7253908e",
   "metadata": {},
   "outputs": [],
   "source": [
    "torch.save(model,'entrega.pt')"
   ]
  }
 ],
 "metadata": {
  "kernelspec": {
   "display_name": "Python 3 (ipykernel)",
   "language": "python",
   "name": "python3"
  },
  "language_info": {
   "codemirror_mode": {
    "name": "ipython",
    "version": 3
   },
   "file_extension": ".py",
   "mimetype": "text/x-python",
   "name": "python",
   "nbconvert_exporter": "python",
   "pygments_lexer": "ipython3",
   "version": "3.8.8"
  }
 },
 "nbformat": 4,
 "nbformat_minor": 5
}
